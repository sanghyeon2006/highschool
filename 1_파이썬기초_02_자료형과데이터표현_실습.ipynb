{
  "cells": [
    {
      "cell_type": "markdown",
      "metadata": {
        "id": "view-in-github",
        "colab_type": "text"
      },
      "source": [
        "<a href=\"https://colab.research.google.com/github/sanghyeon2006/highschool/blob/main/1_%ED%8C%8C%EC%9D%B4%EC%8D%AC%EA%B8%B0%EC%B4%88_02_%EC%9E%90%EB%A3%8C%ED%98%95%EA%B3%BC%EB%8D%B0%EC%9D%B4%ED%84%B0%ED%91%9C%ED%98%84_%EC%8B%A4%EC%8A%B5.ipynb\" target=\"_parent\"><img src=\"https://colab.research.google.com/assets/colab-badge.svg\" alt=\"Open In Colab\"/></a>"
      ]
    },
    {
      "cell_type": "markdown",
      "id": "8daf7079",
      "metadata": {
        "id": "8daf7079"
      },
      "source": [
        "# 파이썬 기초 다지기"
      ]
    },
    {
      "cell_type": "markdown",
      "id": "3f3da3bd",
      "metadata": {
        "id": "3f3da3bd"
      },
      "source": [
        "## 2 - 파이썬 자료형과 데이터 표현\n",
        "파이썬의 다양한 데이터 타입과 다양한 연산자, 문자열"
      ]
    },
    {
      "cell_type": "markdown",
      "id": "0c52a67e",
      "metadata": {
        "id": "0c52a67e"
      },
      "source": [
        "----------------------------------"
      ]
    },
    {
      "cell_type": "markdown",
      "id": "1ff36611",
      "metadata": {
        "id": "1ff36611"
      },
      "source": [
        "## 2-1.파이썬 자료형(Data Type)"
      ]
    },
    {
      "cell_type": "markdown",
      "id": "278fb39c",
      "metadata": {
        "id": "278fb39c"
      },
      "source": [
        "### 수학 연산하기"
      ]
    },
    {
      "cell_type": "code",
      "execution_count": null,
      "id": "7ea3146f",
      "metadata": {
        "id": "7ea3146f",
        "colab": {
          "base_uri": "https://localhost:8080/"
        },
        "outputId": "0df7b27c-3939-434b-a2b0-54082bee3ac8"
      },
      "outputs": [
        {
          "output_type": "stream",
          "name": "stdout",
          "text": [
            "나머지: 3.3333333333333335\n",
            "몫: 3\n",
            "나머지: 1\n",
            "거듭제곱: 1000\n"
          ]
        }
      ],
      "source": [
        "print('나머지:',10/3)\n",
        "print('몫:',10//3)\n",
        "print('나머지:',10%3)\n",
        "print('거듭제곱:',10**3)"
      ]
    },
    {
      "cell_type": "markdown",
      "id": "105f773c",
      "metadata": {
        "id": "105f773c"
      },
      "source": [
        "### [실습문제]\n",
        "- 문제1: 10 + 3 x 4 결과 출력\n",
        "- 문제2: 아이폰 15대를 가지고 있다. 아이폰의 가격이 130만원 일 때 총 금액은?\n",
        "- 문제3: 주어진 자연수가 홀수인지 짝수인지 판별하는 방법은?\n",
        "- 문제4: 2x2x2x5x5x5x5x3x3x3x3을 제곱형태로 나타낸 후 그 결과 출력하기"
      ]
    },
    {
      "cell_type": "code",
      "execution_count": null,
      "id": "7a853d89",
      "metadata": {
        "id": "7a853d89",
        "colab": {
          "base_uri": "https://localhost:8080/"
        },
        "outputId": "f0ba191e-ea5e-46a9-e683-89c053249bf8"
      },
      "outputs": [
        {
          "output_type": "stream",
          "name": "stdout",
          "text": [
            "문제1: 22\n",
            "문제2: 19500000\n",
            "어떤수 x는 홀수!\n",
            "문제3:\n",
            "문제4: 405000\n"
          ]
        }
      ],
      "source": [
        "print('문제1:',10+3*4)\n",
        "iphone_price = 1300000\n",
        "iphone_cnt = 15\n",
        "print('문제2:',iphone_cnt * iphone_price)\n",
        "x = 13\n",
        "if x%2==0: print('어떤수 x는 짞수!')\n",
        "else: print('어떤수 x는 홀수!')\n",
        "print('문제3:',)\n",
        "print('문제4:',2**3 * 5**4 * 3**4)\n",
        "\n",
        "\n"
      ]
    },
    {
      "cell_type": "markdown",
      "id": "65487a5c",
      "metadata": {
        "id": "65487a5c"
      },
      "source": [
        "### 변수\n",
        "데이터를 저장할 수 있는 공간\n",
        "\n",
        "**변수 사용 시 주의사항**\n",
        "- 첫 글자는 영문, 혹은 _(언더바)로 시작할 것 (한글도 가능)\n",
        "- 영문자, 숫자, _(언더바)만으로 구성할 것 (공백문자 불가)\n",
        "- 대문자, 소문자 구분해서 사용할 것\n",
        "- 예약어는 피할 것"
      ]
    },
    {
      "cell_type": "code",
      "execution_count": null,
      "id": "c86ab944",
      "metadata": {
        "id": "c86ab944",
        "colab": {
          "base_uri": "https://localhost:8080/"
        },
        "outputId": "35cea466-765d-49eb-c33e-4d9f109cee9d"
      },
      "outputs": [
        {
          "output_type": "stream",
          "name": "stdout",
          "text": [
            "1000\n",
            "1300\n",
            "a300\n",
            "a300\n"
          ]
        }
      ],
      "source": [
        "a = 1000\n",
        "b = 1000 + 300\n",
        "c = 'a' + '300'\n",
        "d = 'a' + '300'\n",
        "print(a)\n",
        "print(b)\n",
        "print(c)\n",
        "print(d)"
      ]
    },
    {
      "cell_type": "markdown",
      "id": "6b43e39d",
      "metadata": {
        "id": "6b43e39d"
      },
      "source": [
        "### 파이썬 자료형"
      ]
    },
    {
      "cell_type": "code",
      "source": [
        "name1 = '유노을'\n",
        "name2 = '김성현'\n",
        "name3 = '김가연'\n",
        "a = f\"this is a {name1}'s note\"\n",
        "b = f\"this is a {name2}'s note\"\n",
        "c = f\"this is a {name3}'s note\"\n",
        "print(a)\n",
        "print(b)\n",
        "print(c)\n",
        "print('----------------')\n",
        "\n",
        "names = ['유노을', '김성현', '김가연']\n",
        "for name in names : print(f\"this is a {name}'s note.\")"
      ],
      "metadata": {
        "colab": {
          "base_uri": "https://localhost:8080/"
        },
        "id": "FdgwU5ZV_36j",
        "outputId": "048ff61d-7c5b-414a-bedd-1ac051048b95"
      },
      "id": "FdgwU5ZV_36j",
      "execution_count": null,
      "outputs": [
        {
          "output_type": "stream",
          "name": "stdout",
          "text": [
            "this is a 유노을's note\n",
            "this is a 김성현's note\n",
            "this is a 김가연's note\n",
            "----------------\n",
            "this is a 유노을's note.\n",
            "this is a 김성현's note.\n",
            "this is a 김가연's note.\n"
          ]
        }
      ]
    },
    {
      "cell_type": "code",
      "execution_count": null,
      "id": "bdcd0ef1",
      "metadata": {
        "id": "bdcd0ef1",
        "colab": {
          "base_uri": "https://localhost:8080/"
        },
        "outputId": "5e377f90-6aa5-44c4-b96d-8582ebb50e0f"
      },
      "outputs": [
        {
          "output_type": "stream",
          "name": "stdout",
          "text": [
            "<class 'int'>\n",
            "데이터 123의 자료형: <class 'int'>\n",
            "데이터 123의 자료형: <class 'str'>\n",
            "데이터 [123]의 자료형: <class 'list'>\n",
            "데이터 (123,)의 자료형: <class 'tuple'>\n",
            "데이터 {'key': 123}의 자료형: <class 'dict'>\n",
            "데이터 {123}의 자료형: <class 'set'>\n",
            "데이터 True의 자료형: <class 'bool'>\n"
          ]
        }
      ],
      "source": [
        "from typing import type_check_only\n",
        "d1 = 123\n",
        "d2 = '123'\n",
        "d3 = [123]\n",
        "d4 = (123,)\n",
        "d5 = {'key':123}\n",
        "d6 = {123}\n",
        "d7 = True\n",
        "\n",
        "print( type(200))\n",
        "print( type('200'))\n",
        "print(f'데이터 {d1}의 자료형: {type(d1)}')\n",
        "print(f'데이터 {d2}의 자료형: {type(d2)}')\n",
        "print(f'데이터 {d3}의 자료형: {type(d3)}')\n",
        "print(f'데이터 {d4}의 자료형: {type(d4)}')\n",
        "print(f'데이터 {d5}의 자료형: {type(d5)}')\n",
        "print(f'데이터 {d6}의 자료형: {type(d6)}')\n",
        "print(f'데이터 {d7}의 자료형: {type(d7)}')"
      ]
    },
    {
      "cell_type": "code",
      "source": [
        "a = 100\n",
        "b = 50\n",
        "print(\"%f.2 + %f = %f\" % (a, b, (a+b)))\n",
        "print(f\"{a} + {b} = {a+b}\")"
      ],
      "metadata": {
        "id": "pQxura5_B4kQ"
      },
      "id": "pQxura5_B4kQ",
      "execution_count": null,
      "outputs": []
    },
    {
      "cell_type": "markdown",
      "id": "7cda86df",
      "metadata": {
        "id": "7cda86df"
      },
      "source": [
        "### 표준 입력과 출력\n",
        "- 키보드로부터 입력을 받는 함수( input() )을 표준 입력함수라 한다.\n",
        "- 화면에 출력하는 함수( print() )를 표준 출력함수라 한다."
      ]
    },
    {
      "cell_type": "code",
      "source": [
        "# 표준 입력(키보드로부터 데이터를 입력 받는 것)\n",
        "a =  input('키보드입력:')\n",
        "print('입력:',a)\n",
        "print(f'입력:{a}, {type(a)}')\n",
        "\n",
        "# 표준 출력"
      ],
      "metadata": {
        "colab": {
          "base_uri": "https://localhost:8080/"
        },
        "id": "PERUanMmFo4m",
        "outputId": "1f9edb5d-2e62-46ad-ab99-f0e69ea83d23"
      },
      "id": "PERUanMmFo4m",
      "execution_count": null,
      "outputs": [
        {
          "output_type": "stream",
          "name": "stdout",
          "text": [
            "키보드입력:500\n",
            "입력: 500\n",
            "입력:500, <class 'str'>\n"
          ]
        }
      ]
    },
    {
      "cell_type": "code",
      "execution_count": null,
      "id": "00ff5c37",
      "metadata": {
        "id": "00ff5c37",
        "colab": {
          "base_uri": "https://localhost:8080/"
        },
        "outputId": "6f313102-dc0e-415f-f87f-683cda84be40"
      },
      "outputs": [
        {
          "output_type": "stream",
          "name": "stdout",
          "text": [
            "키보드입력:사과\n",
            "입력: 사과\n",
            "입력:사과\n"
          ]
        }
      ],
      "source": [
        "# 표준 입력(키보드로부터 데이터를 입력 받는 것)\n",
        "a =  input('키보드입력:')\n",
        "print('입력:',a)\n",
        "print(f'입력:{a}')\n",
        "\n",
        "# 표준 출력\n",
        "\n",
        "\n"
      ]
    },
    {
      "cell_type": "markdown",
      "id": "18bc822a",
      "metadata": {
        "id": "18bc822a"
      },
      "source": [
        "#### 문자열 데이터를 숫자(정수)로 변환하기"
      ]
    },
    {
      "cell_type": "code",
      "execution_count": null,
      "id": "aaf9890f",
      "metadata": {
        "id": "aaf9890f",
        "colab": {
          "base_uri": "https://localhost:8080/"
        },
        "outputId": "6797b13c-e012-4149-d85b-491ceffb01e1"
      },
      "outputs": [
        {
          "output_type": "stream",
          "name": "stdout",
          "text": [
            "숫자입력:500\n",
            "500, <class 'str'>. <class 'int'>\n"
          ]
        }
      ],
      "source": [
        "# 문자열 데이터를 숫자(정수)로 변환하기\n",
        "a = input('숫자입력:')\n",
        "b = int(a)\n",
        "print(f'{a}, {type(a)}. {type(b)}')"
      ]
    },
    {
      "cell_type": "code",
      "source": [
        "# a = input('숫자입력:')\n",
        "# b = int(a)\n",
        "a = int( input('숫자입력:'))\n",
        "b = float( input('숫자입력:'))\n",
        "print(a+b)"
      ],
      "metadata": {
        "colab": {
          "base_uri": "https://localhost:8080/"
        },
        "id": "WssR18uVHP8S",
        "outputId": "98522861-f0c1-4000-9415-00b806c7bbad"
      },
      "id": "WssR18uVHP8S",
      "execution_count": null,
      "outputs": [
        {
          "output_type": "stream",
          "name": "stdout",
          "text": [
            "숫자입력:100\n",
            "숫자입력:200\n",
            "300\n"
          ]
        }
      ]
    },
    {
      "cell_type": "markdown",
      "id": "c0436ecb",
      "metadata": {
        "id": "c0436ecb"
      },
      "source": [
        "#### 다양한 변수 출력 방법"
      ]
    },
    {
      "cell_type": "code",
      "execution_count": null,
      "id": "7d2e160d",
      "metadata": {
        "scrolled": true,
        "id": "7d2e160d"
      },
      "outputs": [],
      "source": [
        "a = input('키보드로 숫자를 입력해 주세요 ')\n",
        "\n"
      ]
    },
    {
      "cell_type": "markdown",
      "id": "7ea5c22e",
      "metadata": {
        "id": "7ea5c22e"
      },
      "source": [
        "### [실습문제] : 계산기 프로그램 만들기\n",
        "정수 2개를 키보드로 각각 입력 받아 아래와 같이 덧셈, 뺄셈, 곱셈, 몫, 나머지를\n",
        "\n",
        "\n",
        "출력하는 프로그램을 만들어 보세요.\n"
      ]
    },
    {
      "cell_type": "code",
      "execution_count": null,
      "id": "fa128ef7",
      "metadata": {
        "id": "fa128ef7"
      },
      "outputs": [],
      "source": [
        "\n",
        "\n"
      ]
    },
    {
      "cell_type": "markdown",
      "id": "ca1816b6",
      "metadata": {
        "id": "ca1816b6"
      },
      "source": [
        "- f'string' 함수를 이용해 출력하기"
      ]
    },
    {
      "cell_type": "code",
      "execution_count": null,
      "id": "8b486e15",
      "metadata": {
        "id": "8b486e15"
      },
      "outputs": [],
      "source": [
        "\n",
        "\n"
      ]
    },
    {
      "cell_type": "markdown",
      "id": "157b41ef",
      "metadata": {
        "id": "157b41ef"
      },
      "source": [
        "### [실습문제] : 시간 계산 프로그램\n",
        "속력과 거리를 입력 받아 시간을 계산하여 출력하는 프로그램을 만드세요!\n",
        "- 시간 = 거리 / 속력"
      ]
    },
    {
      "cell_type": "code",
      "execution_count": 6,
      "id": "93102e01",
      "metadata": {
        "id": "93102e01",
        "colab": {
          "base_uri": "https://localhost:8080/"
        },
        "outputId": "3f0f3b9d-d1fd-4306-a6df-5662eac01be9"
      },
      "outputs": [
        {
          "output_type": "stream",
          "name": "stdout",
          "text": [
            "속력를 입력해 주세요(km/h) : 100\n",
            "거리를 입력해 주세요(km) : 340\n",
            "------------------------------\n",
            "속력 : 100.0 km/h\n",
            "거리 : 340.0 km\n",
            "시간 : 3.4 h\n"
          ]
        }
      ],
      "source": [
        "velocity = input('속력를 입력해 주세요(km/h) : ')\n",
        "distance = input('거리를 입력해 주세요(km) : ')\n",
        "\n",
        "velocity = float(velocity)\n",
        "distance = float(distance)\n",
        "\n",
        "print('-' * 30)\n",
        "print(f'속력 : {velocity} km/h')\n",
        "print(f'거리 : {distance} km')\n",
        "print(f'시간 : {distance/velocity} h')\n",
        "\n"
      ]
    },
    {
      "cell_type": "markdown",
      "id": "89f48168",
      "metadata": {
        "id": "89f48168"
      },
      "source": [
        "- eval()함수 사용하여 문자열을 계산할 수 있다"
      ]
    },
    {
      "cell_type": "code",
      "execution_count": null,
      "id": "39dab77c",
      "metadata": {
        "id": "39dab77c"
      },
      "outputs": [],
      "source": [
        "# eval()함수 사용\n",
        "velocity = input('속력를 입력해 주세요(km/h) : ')\n",
        "distance = input('거리를 입력해 주세요(km) : ')\n",
        "\n",
        "# eval() : 문자열로 만들어서 계산해주는 함수\n",
        "time = eval(f'{distance}/{velocity}')\n",
        "\n",
        "print('-' * 30)\n",
        "print(f'시간 : {time} h')\n"
      ]
    },
    {
      "cell_type": "markdown",
      "id": "85b8c542",
      "metadata": {
        "id": "85b8c542"
      },
      "source": [
        "### 내장 수학 함수\n",
        "- 파이썬 내장 함수 https://docs.python.org/ko/3.10/library/functions.html"
      ]
    },
    {
      "cell_type": "code",
      "execution_count": 7,
      "id": "2bfba8be",
      "metadata": {
        "scrolled": true,
        "id": "2bfba8be",
        "colab": {
          "base_uri": "https://localhost:8080/"
        },
        "outputId": "c0ec7d68-e92a-41ef-a9da-5bbf545482fe"
      },
      "outputs": [
        {
          "output_type": "stream",
          "name": "stdout",
          "text": [
            "원주율: 3.141592653589793\n",
            "절대값: 10\n",
            "반올림: 1.79\n",
            "올림  : 2\n",
            "내림  : 1\n",
            "제곱  : 8.0\n",
            "제곱근: 2.0\n",
            "로그  : 2.302585092994046\n"
          ]
        }
      ],
      "source": [
        "import math\n",
        "\n",
        "print(f'원주율: {math.pi }')\n",
        "print(f'절대값: {abs(-10) }')\n",
        "print(f'반올림: {round(1.7912, 2) }')\n",
        "print(f'올림  : {math.ceil(1.7)}')\n",
        "print(f'내림  : { math.floor(1.7)}')\n",
        "print(f'제곱  : {math.pow(2, 3) }')\n",
        "print(f'제곱근: {math.sqrt(4) }')\n",
        "print(f'로그  : { math.log(10)}')"
      ]
    },
    {
      "cell_type": "markdown",
      "id": "c8147e87",
      "metadata": {
        "id": "c8147e87"
      },
      "source": [
        "### [실습문제]: 수학 함수 사용하여 계산하기\n",
        "- 문제1: 반지름이 4인 원의 넓이 출력\n",
        "- 문제2: 3.14 곱하가 2 나누기 7의 값을 반올림하여 계산 결과 출력\n",
        "- 문제3: 원주율을 3.14로 만들어서 반지름이 4인 원의 둘레의 길이 출력"
      ]
    },
    {
      "cell_type": "code",
      "execution_count": 11,
      "id": "45ed86c9",
      "metadata": {
        "id": "45ed86c9",
        "colab": {
          "base_uri": "https://localhost:8080/"
        },
        "outputId": "da0efde8-953b-449d-89d3-ed80fa1b3c0b"
      },
      "outputs": [
        {
          "output_type": "stream",
          "name": "stdout",
          "text": [
            "문제1: 28.26\n",
            "문제2: 1\n",
            "문제3: 18.84\n"
          ]
        }
      ],
      "source": [
        "#문제1: 반지름이 4인 원의 넓이 출력\n",
        "r = 3       # 반지름\n",
        "pi = 3.14\n",
        "print(f'문제1: {pi * r**2}')\n",
        "\n",
        "#문제2: 3.14 곱하기 2 나누기 7의 값을 반올림하여 계산 결과 출력\n",
        "print(f'문제2: {round(pi * 2 / 7)}' )\n",
        "\n",
        "#문제3: 원주율을 3.14로 만들어서 반지름이 4인 원의 둘레의 길이 출력\n",
        "print(f'문제3: {2 * pi * r}' )"
      ]
    },
    {
      "cell_type": "markdown",
      "id": "32f4b4ce",
      "metadata": {
        "id": "32f4b4ce"
      },
      "source": [
        "---------------------------"
      ]
    },
    {
      "cell_type": "markdown",
      "id": "12be6789",
      "metadata": {
        "id": "12be6789"
      },
      "source": [
        "## 2-2.문자와 문자열"
      ]
    },
    {
      "cell_type": "markdown",
      "id": "90255097",
      "metadata": {
        "id": "90255097"
      },
      "source": [
        "#### 문자와 문자열 변환"
      ]
    },
    {
      "cell_type": "code",
      "execution_count": null,
      "id": "a52f17d8",
      "metadata": {
        "id": "a52f17d8"
      },
      "outputs": [],
      "source": [
        "# 문자 --> 숫자(정수) 로 변환 : ord() 함수 사용\n",
        "print( ord('A') )\n",
        "print( ord('!') )\n",
        "print( ord('가') )"
      ]
    },
    {
      "cell_type": "code",
      "execution_count": null,
      "id": "88bbb733",
      "metadata": {
        "id": "88bbb733"
      },
      "outputs": [],
      "source": [
        "# 숫자(정수) --> 문자 로 변환 : chr() 함수 사용\n",
        "print( chr(65) )\n",
        "print( chr(66) )\n",
        "print( chr(97) )\n",
        "print( chr(98) )\n",
        "print( chr(44032) )\n",
        "print( chr(44033) )"
      ]
    },
    {
      "cell_type": "code",
      "execution_count": null,
      "id": "1cbfb609",
      "metadata": {
        "id": "1cbfb609"
      },
      "outputs": [],
      "source": [
        "# 문자 --> 숫자 --> 이진수 로 변환\n",
        "for c in '파이썬':\n",
        "    숫자변환 = ord(c)              # unicode\n",
        "    이진수변환 = bin(숫자변환)     # 16진수 binarycode\n",
        "    print( 이진수변환, end = ' ')  # 한 줄로 표현하기"
      ]
    },
    {
      "cell_type": "code",
      "execution_count": 12,
      "id": "d9577a3f",
      "metadata": {
        "id": "d9577a3f",
        "colab": {
          "base_uri": "https://localhost:8080/"
        },
        "outputId": "c3cf38c6-57d7-4003-81ba-0cd400134f87"
      },
      "outputs": [
        {
          "output_type": "stream",
          "name": "stdout",
          "text": [
            "1101001100001100 1100011101110100 1100001101101100 "
          ]
        }
      ],
      "source": [
        "for c in '파이썬':\n",
        "    # 이진수에서 앞'0b'를 없애기 위해 format() 함수 사용할 수 있다.\n",
        "    print( format(ord(c), 'b'), end = ' ')  # 한 줄로 표현하기"
      ]
    },
    {
      "cell_type": "markdown",
      "id": "c87a0c03",
      "metadata": {
        "id": "c87a0c03"
      },
      "source": [
        "### 문자열 따옴표로 지정"
      ]
    },
    {
      "cell_type": "markdown",
      "id": "e343167b",
      "metadata": {
        "id": "e343167b"
      },
      "source": [
        "#### 큰 따옴표  or 작은 따옴표로 지정한다"
      ]
    },
    {
      "cell_type": "code",
      "execution_count": null,
      "id": "fae54804",
      "metadata": {
        "id": "fae54804"
      },
      "outputs": [],
      "source": [
        "print('Hello')\n",
        "print(\"Hello\")\n",
        "print(\"Hello 'world\")\n",
        "print('Hello \"world')\n",
        "print(' \"Yes, I can!\" ')"
      ]
    },
    {
      "cell_type": "markdown",
      "id": "66f9d31e",
      "metadata": {
        "id": "66f9d31e"
      },
      "source": [
        "#### 따옴표 세 개 사용 : 여러 줄로 표현할 때"
      ]
    },
    {
      "cell_type": "code",
      "execution_count": null,
      "id": "48fe4ca0",
      "metadata": {
        "id": "48fe4ca0"
      },
      "outputs": [],
      "source": [
        "a = '''박씨가 소리질렀다.\n",
        "도둑이야!'''\n",
        "print(a)"
      ]
    },
    {
      "cell_type": "code",
      "execution_count": null,
      "id": "b32c2a51",
      "metadata": {
        "scrolled": true,
        "id": "b32c2a51"
      },
      "outputs": [],
      "source": [
        "a = '''OOO카페 메뉴판\n",
        "- 아메리카노:  3000원\n",
        "- 카페라테:     4000원\n",
        "- 카페모카:     5000원'''\n",
        "print(a)"
      ]
    },
    {
      "cell_type": "markdown",
      "id": "fb8a7c56",
      "metadata": {
        "id": "fb8a7c56"
      },
      "source": [
        "### [실습] 주문받아 출력하기"
      ]
    },
    {
      "cell_type": "code",
      "execution_count": 24,
      "id": "3a4d57f5",
      "metadata": {
        "id": "3a4d57f5",
        "colab": {
          "base_uri": "https://localhost:8080/"
        },
        "outputId": "e1824c77-e8e8-47c4-dae8-c348c55f7298"
      },
      "outputs": [
        {
          "output_type": "stream",
          "name": "stdout",
          "text": [
            "OOO카페 메뉴판\n",
            "- 아메리카노:  3000원\n",
            "- 카페라테:     4000원\n",
            "- 카페모카:     5000원\n",
            "------------------------------\n",
            "주문하실 음료를 선택하세요.(ex: 아메리카노): 카페모카\n",
            "카페모카 몇 잔을 주문하시겠습니까?: 53\n",
            "주문하신 음료 카페모카 53 잔이 준비되었습니다.\n"
          ]
        }
      ],
      "source": [
        "# 카페에서 주문받아 출력하기\n",
        "menu = '''OOO카페 메뉴판\n",
        "- 아메리카노:  3000원\n",
        "- 카페라테:     4000원\n",
        "- 카페모카:     5000원'''\n",
        "print(menu)\n",
        "print('-'*30)\n",
        "coffee = input('주문하실 음료를 선택하세요.(ex: 아메리카노): ')\n",
        "cup = input(f'{coffee} 몇 잔을 주문하시겠습니까?: ')\n",
        "\n",
        "print(f'주문하신 음료 {coffee} {cup} 잔이 준비되었습니다.')"
      ]
    },
    {
      "cell_type": "code",
      "source": [
        "# 카페에서 주문받아 출력하기\n",
        "menu = '''OOO카페 메뉴판\n",
        "- 아메리카노:  3000원\n",
        "- 카페라테:     4000원\n",
        "- 카페모카:     5000원'''\n",
        "print(menu)\n",
        "print('-'*30)\n",
        "coffee = input('주문하실 음료를 선택하세요.(ex: 아메리카노): ')\n",
        "tts.Speak(f'{coffee} 몇 잔을 주문하시겠습니까?:')\n",
        "cup = input(f'{coffee} 몇 잔을 주문하시겠습니까?: ')\n",
        "\n",
        "print(f'주문하신 음료 {coffee} {cup} 잔이 준비되었습니다.')"
      ],
      "metadata": {
        "colab": {
          "base_uri": "https://localhost:8080/",
          "height": 358
        },
        "id": "bEEqsbv3WUw4",
        "outputId": "edfe5010-dab2-4d10-afd7-efdcb3729471"
      },
      "id": "bEEqsbv3WUw4",
      "execution_count": 27,
      "outputs": [
        {
          "name": "stdout",
          "output_type": "stream",
          "text": [
            "OOO카페 메뉴판\n",
            "- 아메리카노:  3000원\n",
            "- 카페라테:     4000원\n",
            "- 카페모카:     5000원\n",
            "------------------------------\n",
            "주문하실 음료를 선택하세요.(ex: 아메리카노): 카페모카\n"
          ]
        },
        {
          "output_type": "error",
          "ename": "NameError",
          "evalue": "ignored",
          "traceback": [
            "\u001b[0;31m---------------------------------------------------------------------------\u001b[0m",
            "\u001b[0;31mNameError\u001b[0m                                 Traceback (most recent call last)",
            "\u001b[0;32m<ipython-input-27-376bb0d17e5f>\u001b[0m in \u001b[0;36m<cell line: 9>\u001b[0;34m()\u001b[0m\n\u001b[1;32m      7\u001b[0m \u001b[0mprint\u001b[0m\u001b[0;34m(\u001b[0m\u001b[0;34m'-'\u001b[0m\u001b[0;34m*\u001b[0m\u001b[0;36m30\u001b[0m\u001b[0;34m)\u001b[0m\u001b[0;34m\u001b[0m\u001b[0;34m\u001b[0m\u001b[0m\n\u001b[1;32m      8\u001b[0m \u001b[0mcoffee\u001b[0m \u001b[0;34m=\u001b[0m \u001b[0minput\u001b[0m\u001b[0;34m(\u001b[0m\u001b[0;34m'주문하실 음료를 선택하세요.(ex: 아메리카노): '\u001b[0m\u001b[0;34m)\u001b[0m\u001b[0;34m\u001b[0m\u001b[0;34m\u001b[0m\u001b[0m\n\u001b[0;32m----> 9\u001b[0;31m \u001b[0mtts\u001b[0m\u001b[0;34m.\u001b[0m\u001b[0mSpeak\u001b[0m\u001b[0;34m(\u001b[0m\u001b[0;34mf'{coffee} 몇 잔을 주문하시겠습니까?:'\u001b[0m\u001b[0;34m)\u001b[0m\u001b[0;34m\u001b[0m\u001b[0;34m\u001b[0m\u001b[0m\n\u001b[0m\u001b[1;32m     10\u001b[0m \u001b[0mcup\u001b[0m \u001b[0;34m=\u001b[0m \u001b[0minput\u001b[0m\u001b[0;34m(\u001b[0m\u001b[0;34mf'{coffee} 몇 잔을 주문하시겠습니까?: '\u001b[0m\u001b[0;34m)\u001b[0m\u001b[0;34m\u001b[0m\u001b[0;34m\u001b[0m\u001b[0m\n\u001b[1;32m     11\u001b[0m \u001b[0;34m\u001b[0m\u001b[0m\n",
            "\u001b[0;31mNameError\u001b[0m: name 'tts' is not defined"
          ]
        }
      ]
    },
    {
      "cell_type": "markdown",
      "id": "38c40628",
      "metadata": {
        "id": "38c40628"
      },
      "source": [
        "### 문자열 연산\n",
        "- (+): 문자열 연결하기"
      ]
    },
    {
      "cell_type": "code",
      "execution_count": null,
      "id": "6af90aaf",
      "metadata": {
        "id": "6af90aaf"
      },
      "outputs": [],
      "source": [
        "\n"
      ]
    },
    {
      "cell_type": "markdown",
      "id": "a27ee4d1",
      "metadata": {
        "id": "a27ee4d1"
      },
      "source": [
        "- (*) : 반복의 의미"
      ]
    },
    {
      "cell_type": "code",
      "execution_count": null,
      "id": "229965c2",
      "metadata": {
        "id": "229965c2"
      },
      "outputs": [],
      "source": [
        "\n"
      ]
    },
    {
      "cell_type": "markdown",
      "id": "2d2a3e0e",
      "metadata": {
        "id": "2d2a3e0e"
      },
      "source": [
        "### [실습문제] 문자열 출력하기\n",
        "- 문제1: 화면에   Mary’s cosmetics   출력\n",
        "- 문제2: 화면에  박씨가 소리질렀다. “도둑이야!”.  출력\n",
        "- 문제3: 다음 코드 실행시켜서 \\t와 \\n의 역할 확인하기 <br>\n",
        "print(\"안녕하세요.\\n오늘\\t날씨가\\t\\t좋습니다.\")    "
      ]
    },
    {
      "cell_type": "code",
      "execution_count": 19,
      "id": "36f87e66",
      "metadata": {
        "id": "36f87e66",
        "colab": {
          "base_uri": "https://localhost:8080/"
        },
        "outputId": "d1b31012-b681-4982-92eb-7a922ef943b8"
      },
      "outputs": [
        {
          "output_type": "stream",
          "name": "stdout",
          "text": [
            "marys'cosmetics\n",
            "박씨가 소리 질렀다.\"도둑이야!\"\n",
            "안녕하세요.\n",
            "오늘\t날씨가\t\t좋습니다.\n"
          ]
        }
      ],
      "source": [
        "\n",
        "print(\"marys\\'cosmetics\")\n",
        "print('박씨가 소리 질렀다.\"도둑이야!\"')\n",
        "print(\"안녕하세요.\\n오늘\\t날씨가\\t\\t좋습니다.\")"
      ]
    },
    {
      "cell_type": "markdown",
      "id": "13245f26",
      "metadata": {
        "id": "13245f26"
      },
      "source": [
        "-------------------"
      ]
    },
    {
      "cell_type": "markdown",
      "source": [],
      "metadata": {
        "id": "fMceM7zyTcsX"
      },
      "id": "fMceM7zyTcsX"
    },
    {
      "cell_type": "markdown",
      "id": "020d1cc5",
      "metadata": {
        "id": "020d1cc5"
      },
      "source": [
        "## 2-3.문자열 인덱싱과 슬라이싱"
      ]
    },
    {
      "cell_type": "code",
      "execution_count": null,
      "id": "9c875a9b",
      "metadata": {
        "id": "9c875a9b"
      },
      "outputs": [],
      "source": [
        "a = '우리는 민족중흥의 역사적 사명을 띠고 이 땅에 태어났다.'\n",
        "print( )"
      ]
    },
    {
      "cell_type": "code",
      "execution_count": null,
      "id": "e50df3b3",
      "metadata": {
        "id": "e50df3b3"
      },
      "outputs": [],
      "source": [
        "fruits = 'orange'\n",
        "print( )\n"
      ]
    },
    {
      "cell_type": "markdown",
      "id": "1aecf2d0",
      "metadata": {
        "id": "1aecf2d0"
      },
      "source": [
        "---------------------------"
      ]
    },
    {
      "cell_type": "markdown",
      "id": "0f48d7cf",
      "metadata": {
        "id": "0f48d7cf"
      },
      "source": [
        "## 2-4.변수 활용"
      ]
    },
    {
      "cell_type": "markdown",
      "id": "d26c5d6e",
      "metadata": {
        "id": "d26c5d6e"
      },
      "source": [
        "### [실습문제]: 지불할 음식 총 가격 계산하기\n",
        "- 음식가격:  4,450 원\n",
        "- 세금: 6.75%\n",
        "- 팁: 15%\n",
        "1. meal 변수를 선언하고 값을 4450으로 지정하세요.\n",
        "2. tax 변수를 생성하고 값으로 6.75%를 소수점 형태로 지정하세요.\n",
        "3. tip 변수를 생성하고 값으로 15%를 소수점 형태로 지정하세요.\n",
        "4. meal의 변수값에 세금을 곱해 meal 변수에 지정하세요.\n",
        "5. 음식값에 tip을 더해 total 변수에 지정하세요.\n",
        "6. total 변수 값을 출력하세요."
      ]
    },
    {
      "cell_type": "code",
      "execution_count": 37,
      "id": "933828b3",
      "metadata": {
        "id": "933828b3",
        "colab": {
          "base_uri": "https://localhost:8080/"
        },
        "outputId": "942f10db-37f6-407e-d25a-27b1a68a2a8d"
      },
      "outputs": [
        {
          "output_type": "stream",
          "name": "stdout",
          "text": [
            "음식가격: 4450\n",
            "세금포함 음식 가격: 4750.375 세금: 320.65031250000004\n",
            "팁 포함 음식가격: 5462.93125  팁: 712.55625\n"
          ]
        }
      ],
      "source": [
        "meal = 4450    # 1.음식가격\n",
        "tax = 0.0675   # 2.세금\n",
        "tip = 0.15     # 3.팁\n",
        "\n",
        "print(f'음식가격: {meal}')\n",
        "meal = meal + (meal*tax)\n",
        "print(f'세금포함 음식 가격: {meal} 세금: {meal*tax}')\n",
        "total = meal + (meal*tip)\n",
        "print(f'팁 포함 음식가격: {total}  팁: {meal * tip}')\n",
        "\n",
        "\n",
        "\n",
        "\n",
        "\n",
        "\n",
        "\n"
      ]
    },
    {
      "cell_type": "markdown",
      "id": "a4fa74c9",
      "metadata": {
        "id": "a4fa74c9"
      },
      "source": [
        "### [실습문제]: 섭씨온도를 화씨온도로 변환하기\n",
        "- 섭씨 온도 (Celsius): 1 atm에서의 물의 어는점을 0도, 끓는점을 100도로 정한 온도 체계. (°C)\n",
        "\n",
        "\n",
        "- 화씨 온도 (Fahrenheit): 물이 어는 온도는 32도, 물이 끓는 온도는 212도. 180등분. (°F)\n",
        "- 섭씨온도(℃) = (5 / 9) × (℉ - 32)  # Celsius\n",
        "- 화씨온도(℉) = (9 / 5) × ℃ + 32    # Fahrenheit"
      ]
    },
    {
      "cell_type": "code",
      "source": [
        "c = 5/9 * (F - 32)\n",
        "F= 9/5 * C + 32"
      ],
      "metadata": {
        "id": "XfoHPmNx1z9X"
      },
      "id": "XfoHPmNx1z9X",
      "execution_count": null,
      "outputs": []
    },
    {
      "cell_type": "code",
      "execution_count": 43,
      "id": "d65f3301",
      "metadata": {
        "scrolled": true,
        "id": "d65f3301",
        "colab": {
          "base_uri": "https://localhost:8080/",
          "height": 529
        },
        "outputId": "cfa0e54f-1f8d-4082-bb2c-4152ba821ac0"
      },
      "outputs": [
        {
          "output_type": "stream",
          "name": "stdout",
          "text": [
            "섭씨온도를 화씨온도로 변환하는 프로그램입니다.\n",
            "#섭씨온도를 화씨온도로 변환하는 프로그램입니다.\n",
            "섭씨온도를 입력하세요: 32\n",
            "섭씨온도 32.0도는 화씨온도 89.6도 입니다.\n",
            "------------------------------\n",
            "#화씨온도를 섭씨온도로 변환하는 프로그램입니다.\n"
          ]
        },
        {
          "output_type": "error",
          "ename": "KeyboardInterrupt",
          "evalue": "ignored",
          "traceback": [
            "\u001b[0;31m---------------------------------------------------------------------------\u001b[0m",
            "\u001b[0;31mKeyboardInterrupt\u001b[0m                         Traceback (most recent call last)",
            "\u001b[0;32m<ipython-input-43-4bc2b9f249a3>\u001b[0m in \u001b[0;36m<cell line: 10>\u001b[0;34m()\u001b[0m\n\u001b[1;32m      8\u001b[0m \u001b[0;34m\u001b[0m\u001b[0m\n\u001b[1;32m      9\u001b[0m \u001b[0mprint\u001b[0m\u001b[0;34m(\u001b[0m\u001b[0;34m'#화씨온도를 섭씨온도로 변환하는 프로그램입니다.'\u001b[0m\u001b[0;34m)\u001b[0m\u001b[0;34m\u001b[0m\u001b[0;34m\u001b[0m\u001b[0m\n\u001b[0;32m---> 10\u001b[0;31m \u001b[0mf_temp\u001b[0m \u001b[0;34m=\u001b[0m \u001b[0mfloat\u001b[0m\u001b[0;34m(\u001b[0m\u001b[0minput\u001b[0m\u001b[0;34m(\u001b[0m\u001b[0;34m'화씨온도를 입력하세요: '\u001b[0m\u001b[0;34m)\u001b[0m \u001b[0;34m)\u001b[0m \u001b[0;31m# 정수로 변환: int()\u001b[0m\u001b[0;34m\u001b[0m\u001b[0;34m\u001b[0m\u001b[0m\n\u001b[0m\u001b[1;32m     11\u001b[0m \u001b[0mc_temp\u001b[0m \u001b[0;34m=\u001b[0m \u001b[0;34m(\u001b[0m\u001b[0;36m5\u001b[0m\u001b[0;34m/\u001b[0m\u001b[0;36m9\u001b[0m\u001b[0;34m)\u001b[0m \u001b[0;34m*\u001b[0m \u001b[0;34m(\u001b[0m\u001b[0mf_temp\u001b[0m \u001b[0;34m-\u001b[0m \u001b[0;36m32\u001b[0m\u001b[0;34m)\u001b[0m      \u001b[0;31m# 섭씨온도: Celsius\u001b[0m\u001b[0;34m\u001b[0m\u001b[0;34m\u001b[0m\u001b[0m\n\u001b[1;32m     12\u001b[0m \u001b[0mprint\u001b[0m\u001b[0;34m(\u001b[0m\u001b[0;34mf'화씨온도 {f_temp}는 섭씨온도 {c_temp}도 입니다.'\u001b[0m\u001b[0;34m)\u001b[0m\u001b[0;34m\u001b[0m\u001b[0;34m\u001b[0m\u001b[0m\n",
            "\u001b[0;32m/usr/local/lib/python3.10/dist-packages/ipykernel/kernelbase.py\u001b[0m in \u001b[0;36mraw_input\u001b[0;34m(self, prompt)\u001b[0m\n\u001b[1;32m    849\u001b[0m                 \u001b[0;34m\"raw_input was called, but this frontend does not support input requests.\"\u001b[0m\u001b[0;34m\u001b[0m\u001b[0;34m\u001b[0m\u001b[0m\n\u001b[1;32m    850\u001b[0m             )\n\u001b[0;32m--> 851\u001b[0;31m         return self._input_request(str(prompt),\n\u001b[0m\u001b[1;32m    852\u001b[0m             \u001b[0mself\u001b[0m\u001b[0;34m.\u001b[0m\u001b[0m_parent_ident\u001b[0m\u001b[0;34m,\u001b[0m\u001b[0;34m\u001b[0m\u001b[0;34m\u001b[0m\u001b[0m\n\u001b[1;32m    853\u001b[0m             \u001b[0mself\u001b[0m\u001b[0;34m.\u001b[0m\u001b[0m_parent_header\u001b[0m\u001b[0;34m,\u001b[0m\u001b[0;34m\u001b[0m\u001b[0;34m\u001b[0m\u001b[0m\n",
            "\u001b[0;32m/usr/local/lib/python3.10/dist-packages/ipykernel/kernelbase.py\u001b[0m in \u001b[0;36m_input_request\u001b[0;34m(self, prompt, ident, parent, password)\u001b[0m\n\u001b[1;32m    893\u001b[0m             \u001b[0;32mexcept\u001b[0m \u001b[0mKeyboardInterrupt\u001b[0m\u001b[0;34m:\u001b[0m\u001b[0;34m\u001b[0m\u001b[0;34m\u001b[0m\u001b[0m\n\u001b[1;32m    894\u001b[0m                 \u001b[0;31m# re-raise KeyboardInterrupt, to truncate traceback\u001b[0m\u001b[0;34m\u001b[0m\u001b[0;34m\u001b[0m\u001b[0m\n\u001b[0;32m--> 895\u001b[0;31m                 \u001b[0;32mraise\u001b[0m \u001b[0mKeyboardInterrupt\u001b[0m\u001b[0;34m(\u001b[0m\u001b[0;34m\"Interrupted by user\"\u001b[0m\u001b[0;34m)\u001b[0m \u001b[0;32mfrom\u001b[0m \u001b[0;32mNone\u001b[0m\u001b[0;34m\u001b[0m\u001b[0;34m\u001b[0m\u001b[0m\n\u001b[0m\u001b[1;32m    896\u001b[0m             \u001b[0;32mexcept\u001b[0m \u001b[0mException\u001b[0m \u001b[0;32mas\u001b[0m \u001b[0me\u001b[0m\u001b[0;34m:\u001b[0m\u001b[0;34m\u001b[0m\u001b[0;34m\u001b[0m\u001b[0m\n\u001b[1;32m    897\u001b[0m                 \u001b[0mself\u001b[0m\u001b[0;34m.\u001b[0m\u001b[0mlog\u001b[0m\u001b[0;34m.\u001b[0m\u001b[0mwarning\u001b[0m\u001b[0;34m(\u001b[0m\u001b[0;34m\"Invalid Message:\"\u001b[0m\u001b[0;34m,\u001b[0m \u001b[0mexc_info\u001b[0m\u001b[0;34m=\u001b[0m\u001b[0;32mTrue\u001b[0m\u001b[0;34m)\u001b[0m\u001b[0;34m\u001b[0m\u001b[0;34m\u001b[0m\u001b[0m\n",
            "\u001b[0;31mKeyboardInterrupt\u001b[0m: Interrupted by user"
          ]
        }
      ],
      "source": [
        "def CtoF(c_temp)\n",
        "c_temp = float(input('섭씨온도를 입력하세요: ') ) # 소수점도 입력 받을 수 있기 위해float()함수 사용\n",
        "f_temp = (9/5) * c_temp + 32      # 화씨온도: Fahrenheit\n",
        "\n",
        "def CtoF(c_temp)\n",
        "print('#화씨온도를 섭씨온도로 변환하는 프로그램입니다.')\n",
        "f_temp = float(input('화씨온도를 입력하세요: ') ) # 정수로 변환: int()\n",
        "c_temp = (5/9) * (f_temp - 32)      # 섭씨온도: Celsius\n",
        "\n",
        "print('섭씨온도를 화씨온도로 변환하는 프로그램입니다.')\n",
        "ctoF(32)\n",
        "ctoF(25)\n",
        "ctoF(-5)\n",
        "\n",
        "ftoF(32)\n",
        "ftoF(25)\n",
        "ftoF(-5)\n",
        "\n",
        "\n",
        "\n",
        "\n",
        "\n"
      ]
    },
    {
      "cell_type": "markdown",
      "id": "a57cbf87",
      "metadata": {
        "id": "a57cbf87"
      },
      "source": [
        "-------"
      ]
    },
    {
      "cell_type": "markdown",
      "id": "f0265f78",
      "metadata": {
        "id": "f0265f78"
      },
      "source": [
        "## 2-5.연산자"
      ]
    },
    {
      "cell_type": "markdown",
      "id": "bff8051d",
      "metadata": {
        "id": "bff8051d"
      },
      "source": [
        "### [실습문제]: 동전 교환 프로그램 만들기"
      ]
    },
    {
      "cell_type": "code",
      "execution_count": null,
      "id": "105db988",
      "metadata": {
        "id": "105db988"
      },
      "outputs": [],
      "source": [
        "money = int (input(\"동전으로 교환할 금액을 입력하세요: \"))\n",
        "point('_'*30)\n",
        "\n",
        "print(f\"500원짜리 ==> {money//500}개\")\n",
        "money = money%500\n",
        "print(f\"100원짜리 ==>{mocey//100}개\")\n",
        "money%100\n",
        "print(f\"50원짜리 ==> {money%50}개\")\n",
        "money%50\n",
        "print(f\"10원짜리 ==> {money%10}개\")\n",
        "money%100\n",
        "print(f\"잔돈 ==> {money}원\")"
      ]
    },
    {
      "cell_type": "markdown",
      "id": "f359d4a1",
      "metadata": {
        "id": "f359d4a1"
      },
      "source": [
        "-----------------------------------------"
      ]
    },
    {
      "cell_type": "markdown",
      "id": "d8c018ca",
      "metadata": {
        "id": "d8c018ca"
      },
      "source": [
        "## 2-6.리스트(List)\n",
        "- 리스트는 여러 개의 데이터 값을 하나의 변수에 담을 수 있는 데이터 구조\n",
        "- 리스트는 순서(인덱스)가 있고 데이터를 수정, 삭제, 추가 가능하다.\n",
        "- 대괄호로 표현되고 내부 원소는 ,(쉼표)로 구분됨"
      ]
    },
    {
      "cell_type": "markdown",
      "id": "693f2484",
      "metadata": {
        "id": "693f2484"
      },
      "source": [
        "### 리스트 생성"
      ]
    },
    {
      "cell_type": "code",
      "execution_count": null,
      "id": "a1b79606",
      "metadata": {
        "id": "a1b79606"
      },
      "outputs": [],
      "source": [
        "a = list()\n",
        "a = []\n",
        "a = [1,2,3]\n",
        "a = ['I', 'Love', 'Python']\n",
        "b = [1,2, '사랑해요', 'Python']\n",
        "b = ['a', '1', 1, [2,3], -4]\n",
        "a = [1,2,['a','b',['사랑해', '파이썬']], 3]"
      ]
    },
    {
      "cell_type": "code",
      "execution_count": null,
      "id": "df23f6cf",
      "metadata": {
        "id": "df23f6cf"
      },
      "outputs": [],
      "source": [
        "print(a)\n",
        "print(b)"
      ]
    },
    {
      "cell_type": "markdown",
      "id": "7eef7d7c",
      "metadata": {
        "id": "7eef7d7c"
      },
      "source": [
        "### 리스트 삭제"
      ]
    },
    {
      "cell_type": "code",
      "execution_count": null,
      "id": "52a5a894",
      "metadata": {
        "id": "52a5a894"
      },
      "outputs": [],
      "source": [
        "del(b)\n",
        "\n",
        "print(a)\n",
        "print(b)"
      ]
    },
    {
      "cell_type": "markdown",
      "id": "b3ab38e4",
      "metadata": {
        "id": "b3ab38e4"
      },
      "source": [
        "### 리스트 요소에 접근"
      ]
    },
    {
      "cell_type": "code",
      "execution_count": null,
      "id": "d36d5b62",
      "metadata": {
        "scrolled": true,
        "id": "d36d5b62"
      },
      "outputs": [],
      "source": [
        "print( 'red','blue','green','pink',['purple',vioblet] )\n",
        "print(a[4])\n",
        "print(a[-1])\n",
        "\n",
        "\n",
        "print( a[1] )\n",
        "print( a[2] )\n",
        "print(a[1:4])\n",
        "# 'viloet', 'yellow'을 출력하려면?\n",
        "print(a[4][1])\n",
        "\n",
        "print(a[4][1:3])\n",
        "print(a[4][1])\n",
        "\n",
        "print(a[4][0:])\n",
        "print(a[4][:])\n",
        "\n",
        "print(a[2:])"
      ]
    },
    {
      "cell_type": "markdown",
      "id": "b7811d5d",
      "metadata": {
        "id": "b7811d5d"
      },
      "source": [
        "### 리스트 요소 추가 / 변경"
      ]
    },
    {
      "cell_type": "code",
      "execution_count": null,
      "id": "010220d8",
      "metadata": {
        "id": "010220d8"
      },
      "outputs": [],
      "source": [
        "a = ['여름','가을','겨울']\n",
        "print('1',a)\n",
        "a.append('봄')     # 리스트 맨 끝에 추가\n",
        "print('2',a)\n",
        "a.insert(1, '봄')  # 리스트명.insert(인덱스위치, 값)\n",
        "print('3',a)"
      ]
    },
    {
      "cell_type": "code",
      "source": [
        "a = ['여름','가을','겨울']\n",
        "a[0] = '한여름'\n",
        "print(a)"
      ],
      "metadata": {
        "id": "nwyp7ughKlMf"
      },
      "id": "nwyp7ughKlMf",
      "execution_count": null,
      "outputs": []
    },
    {
      "cell_type": "markdown",
      "id": "5a5820d1",
      "metadata": {
        "id": "5a5820d1"
      },
      "source": [
        "### 리스트 요소 삭제"
      ]
    },
    {
      "cell_type": "code",
      "execution_count": 44,
      "id": "e4c76b68",
      "metadata": {
        "id": "e4c76b68",
        "colab": {
          "base_uri": "https://localhost:8080/"
        },
        "outputId": "e7ffb286-201c-459c-ec08-33ca7a911ed7"
      },
      "outputs": [
        {
          "output_type": "stream",
          "name": "stdout",
          "text": [
            "['여름', '가을', '겨울']\n",
            "['여름', '가을']\n",
            "['가을']\n"
          ]
        }
      ],
      "source": [
        "a = ['여름','가을','겨울']\n",
        "print(a)\n",
        "a.pop()     # 리스트 맨 끝 요소 삭제\n",
        "print(a)\n",
        "a.remove('여름')  # 리스트명.remove(값), 단 여러 개 일 경우 첫 번째만 삭제됨\n",
        "print(a)"
      ]
    },
    {
      "cell_type": "markdown",
      "id": "df6f6d08",
      "metadata": {
        "id": "df6f6d08"
      },
      "source": [
        "## 2-7.딕셔너리(Dictionary)\n",
        "- 딕셔너리는 쌍이 하나로 묶인 자료구조\n",
        "- 인덱스를 의미하는 ‘키(key)'와 자료의 내용인 ‘ 값(value)'을 이용하여  데이터를 관리\n",
        "- 중괄호 { }로 묶어 구성, 키(Key)와 값(Value)의 쌍으로 구성\n",
        "- 순서(sequence)가 없다"
      ]
    },
    {
      "cell_type": "markdown",
      "id": "4393e9e4",
      "metadata": {
        "id": "4393e9e4"
      },
      "source": [
        "### 딕셔너리 생성"
      ]
    },
    {
      "cell_type": "code",
      "execution_count": null,
      "id": "da6bca38",
      "metadata": {
        "id": "da6bca38"
      },
      "outputs": [],
      "source": [
        "members = {'name':'진', 'age':29, 'email':'jin@gggmail.com'}\n",
        "books = {'제목': 'wpahr': '어린왕자', '저자': '생텍쥐베리', '국적':'프랑스', '출판년도': 1934}\n",
        "books = {'제목': 'wpahr': '어린왕자', '저자': {'생텍쥐베리', '국적':'프랑스', '출판년도': 1934}}"
      ]
    },
    {
      "cell_type": "markdown",
      "id": "b5f4d763",
      "metadata": {
        "id": "b5f4d763"
      },
      "source": [
        "### 딕셔너리 키(key)와 값(value)에 접근하기"
      ]
    },
    {
      "cell_type": "code",
      "execution_count": 45,
      "id": "0697a654",
      "metadata": {
        "id": "0697a654",
        "colab": {
          "base_uri": "https://localhost:8080/"
        },
        "outputId": "99a5169f-a76d-429a-8c1c-e777369dedab"
      },
      "outputs": [
        {
          "output_type": "stream",
          "name": "stdout",
          "text": [
            "100\n",
            "---방법1---\n",
            "국어 => 100\n",
            "수학 => 90\n",
            "영어 => 80\n",
            "---방법2---\n",
            "국어 => 100\n",
            "수학 => 90\n",
            "영어 => 80\n"
          ]
        }
      ],
      "source": [
        "scores = {'국어': 100, '수학': 90, '영어': 80}\n",
        "\n",
        "print(scores['국어'])  # 딕셔너리는 키로 접근한다.\n",
        "\n",
        "# 방법1\n",
        "print('---방법1---')\n",
        "for key in scores:\n",
        "    print(f'{key} => {scores[key]})\n",
        "\n",
        "# 방법2\n",
        "print('---방법2---')\n",
        "for key, value in scores.items():\n",
        "    print('%s => %s' % (key, value))\n",
        "    print()"
      ]
    },
    {
      "cell_type": "code",
      "execution_count": null,
      "id": "011745db",
      "metadata": {
        "id": "011745db"
      },
      "outputs": [],
      "source": [
        "print(scores.keys())   # 키만 추출\n",
        "print(scores.values()) # 키만 추출\n",
        "print(scores.items())  # (키,값)쌍 형태로 추출"
      ]
    },
    {
      "cell_type": "markdown",
      "id": "7d76f114",
      "metadata": {
        "id": "7d76f114"
      },
      "source": [
        "### 딕셔너리에 요소 추가/수정/삭제"
      ]
    },
    {
      "cell_type": "code",
      "execution_count": 46,
      "id": "f15a3506",
      "metadata": {
        "id": "f15a3506",
        "colab": {
          "base_uri": "https://localhost:8080/"
        },
        "outputId": "550bc172-93f0-45f9-dece-b2c07819eb4f"
      },
      "outputs": [
        {
          "output_type": "stream",
          "name": "stdout",
          "text": [
            "{'국어': 100, '수학': 90, '영어': 80}\n",
            "{'국어': 100, '수학': 90, '영어': 80, 'music': 100}\n",
            "{'국어': 100, '수학': 99, '영어': 80, 'music': 100}\n",
            "{'국어': 100, '수학': 99, 'music': 100}\n"
          ]
        }
      ],
      "source": [
        "scores = {'국어': 100, '수학': 90, '영어': 80}\n",
        "print(scores)\n",
        "\n",
        "# 키로 요소 추가하기\n",
        "scores['music'] = 100\n",
        "print(scores)\n",
        "\n",
        "# 요소 값 수정하기\n",
        "scores['수학'] = 99\n",
        "print(scores)\n",
        "\n",
        "# 요소 삭제하기\n",
        "del (scores['영어'])\n",
        "print(scores)"
      ]
    },
    {
      "cell_type": "markdown",
      "id": "45e329e4",
      "metadata": {
        "id": "45e329e4"
      },
      "source": [
        "------------------------"
      ]
    },
    {
      "cell_type": "markdown",
      "id": "66025633",
      "metadata": {
        "id": "66025633"
      },
      "source": [
        "끝"
      ]
    }
  ],
  "metadata": {
    "kernelspec": {
      "display_name": "Python 3 (ipykernel)",
      "language": "python",
      "name": "python3"
    },
    "language_info": {
      "codemirror_mode": {
        "name": "ipython",
        "version": 3
      },
      "file_extension": ".py",
      "mimetype": "text/x-python",
      "name": "python",
      "nbconvert_exporter": "python",
      "pygments_lexer": "ipython3",
      "version": "3.10.9"
    },
    "vscode": {
      "interpreter": {
        "hash": "b41e41bff03a930185ac2cbea60ce521f7c8c2f5401ceb5c30214081f77ab4f5"
      }
    },
    "colab": {
      "provenance": [],
      "include_colab_link": true
    }
  },
  "nbformat": 4,
  "nbformat_minor": 5
}